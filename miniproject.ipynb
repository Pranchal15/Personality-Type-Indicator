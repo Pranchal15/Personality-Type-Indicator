{
  "cells": [
    {
      "cell_type": "markdown",
      "metadata": {
        "id": "view-in-github",
        "colab_type": "text"
      },
      "source": [
        "<a href=\"https://colab.research.google.com/github/Pranchal15/Personality-Type-Indicator/blob/main/miniproject.ipynb\" target=\"_parent\"><img src=\"https://colab.research.google.com/assets/colab-badge.svg\" alt=\"Open In Colab\"/></a>"
      ]
    },
    {
      "cell_type": "code",
      "execution_count": null,
      "metadata": {
        "id": "t0rWtafb7VMB"
      },
      "outputs": [],
      "source": [
        "import pandas as pd\n",
        "\n",
        "df = pd.read_csv('data-final.csv', delimiter=\"\\t\")"
      ]
    },
    {
      "cell_type": "code",
      "execution_count": null,
      "metadata": {
        "colab": {
          "base_uri": "https://localhost:8080/",
          "height": 800
        },
        "id": "cyOaZHO87VMO",
        "outputId": "3f043d9a-d884-49e9-af8f-4ce245c2188d"
      },
      "outputs": [
        {
          "output_type": "execute_result",
          "data": {
            "text/plain": [
              "      EXT1  EXT2  EXT3  EXT4  EXT5  EXT6  EXT7  EXT8  EXT9  EXT10  ...  \\\n",
              "0        4     1     5     2     5     1     5     2     4      1  ...   \n",
              "1        3     5     3     4     3     3     2     5     1      5  ...   \n",
              "2        2     3     4     4     3     2     1     3     2      5  ...   \n",
              "3        2     2     2     3     4     2     2     4     1      4  ...   \n",
              "4        3     3     3     3     5     3     3     5     3      4  ...   \n",
              "...    ...   ...   ...   ...   ...   ...   ...   ...   ...    ...  ...   \n",
              "2548     4     2     4     2     4     2     4     3     4      3  ...   \n",
              "2549     3     2     5     4     2     2     3     2     5      3  ...   \n",
              "2550     2     5     2     5     1     1     1     5     1      5  ...   \n",
              "2551     1     3     4     3     5     1     2     5     4      4  ...   \n",
              "2552     3     4     4     3     4     1     3     1     5      5  ...   \n",
              "\n",
              "                 dateload  screenw  screenh  introelapse  testelapse  \\\n",
              "0     2016-03-03 02:01:01    768.0   1024.0          9.0       234.0   \n",
              "1     2016-03-03 02:01:20   1360.0    768.0         12.0       179.0   \n",
              "2     2016-03-03 02:01:56   1366.0    768.0          3.0       186.0   \n",
              "3     2016-03-03 02:02:02   1920.0   1200.0        186.0       219.0   \n",
              "4     2016-03-03 02:02:57   1366.0    768.0          8.0       315.0   \n",
              "...                   ...      ...      ...          ...         ...   \n",
              "2548  2016-03-04 17:01:17   1920.0   1080.0         40.0       202.0   \n",
              "2549  2016-03-04 17:04:50   1920.0   1080.0         19.0       205.0   \n",
              "2550  2016-03-04 17:09:36   1440.0    900.0        118.0       263.0   \n",
              "2551  2016-03-04 17:10:23   1366.0    768.0         24.0       224.0   \n",
              "2552                  NaN      NaN      NaN          NaN         NaN   \n",
              "\n",
              "      endelapse  IPC  country  lat_appx_lots_of_err  long_appx_lots_of_err  \n",
              "0           6.0  1.0       GB               51.5448                 0.1991  \n",
              "1          11.0  1.0       MY                3.1698                101.706  \n",
              "2           7.0  1.0       GB               54.9119                -1.3833  \n",
              "3           7.0  1.0       GB                 51.75                  -1.25  \n",
              "4          17.0  2.0       KE                   1.0                   38.0  \n",
              "...         ...  ...      ...                   ...                    ...  \n",
              "2548       17.0  1.0       CA                43.447               -80.4725  \n",
              "2549        9.0  1.0       US               38.1347                -97.926  \n",
              "2550       14.0  1.0       US                44.069              -123.0825  \n",
              "2551       10.0  1.0       US                  38.0                  -97.0  \n",
              "2552        NaN  NaN      NaN                   NaN                    NaN  \n",
              "\n",
              "[2553 rows x 110 columns]"
            ],
            "text/html": [
              "\n",
              "  <div id=\"df-48493bfc-2f35-4980-bad1-0bf5dcd77a8b\">\n",
              "    <div class=\"colab-df-container\">\n",
              "      <div>\n",
              "<style scoped>\n",
              "    .dataframe tbody tr th:only-of-type {\n",
              "        vertical-align: middle;\n",
              "    }\n",
              "\n",
              "    .dataframe tbody tr th {\n",
              "        vertical-align: top;\n",
              "    }\n",
              "\n",
              "    .dataframe thead th {\n",
              "        text-align: right;\n",
              "    }\n",
              "</style>\n",
              "<table border=\"1\" class=\"dataframe\">\n",
              "  <thead>\n",
              "    <tr style=\"text-align: right;\">\n",
              "      <th></th>\n",
              "      <th>EXT1</th>\n",
              "      <th>EXT2</th>\n",
              "      <th>EXT3</th>\n",
              "      <th>EXT4</th>\n",
              "      <th>EXT5</th>\n",
              "      <th>EXT6</th>\n",
              "      <th>EXT7</th>\n",
              "      <th>EXT8</th>\n",
              "      <th>EXT9</th>\n",
              "      <th>EXT10</th>\n",
              "      <th>...</th>\n",
              "      <th>dateload</th>\n",
              "      <th>screenw</th>\n",
              "      <th>screenh</th>\n",
              "      <th>introelapse</th>\n",
              "      <th>testelapse</th>\n",
              "      <th>endelapse</th>\n",
              "      <th>IPC</th>\n",
              "      <th>country</th>\n",
              "      <th>lat_appx_lots_of_err</th>\n",
              "      <th>long_appx_lots_of_err</th>\n",
              "    </tr>\n",
              "  </thead>\n",
              "  <tbody>\n",
              "    <tr>\n",
              "      <th>0</th>\n",
              "      <td>4</td>\n",
              "      <td>1</td>\n",
              "      <td>5</td>\n",
              "      <td>2</td>\n",
              "      <td>5</td>\n",
              "      <td>1</td>\n",
              "      <td>5</td>\n",
              "      <td>2</td>\n",
              "      <td>4</td>\n",
              "      <td>1</td>\n",
              "      <td>...</td>\n",
              "      <td>2016-03-03 02:01:01</td>\n",
              "      <td>768.0</td>\n",
              "      <td>1024.0</td>\n",
              "      <td>9.0</td>\n",
              "      <td>234.0</td>\n",
              "      <td>6.0</td>\n",
              "      <td>1.0</td>\n",
              "      <td>GB</td>\n",
              "      <td>51.5448</td>\n",
              "      <td>0.1991</td>\n",
              "    </tr>\n",
              "    <tr>\n",
              "      <th>1</th>\n",
              "      <td>3</td>\n",
              "      <td>5</td>\n",
              "      <td>3</td>\n",
              "      <td>4</td>\n",
              "      <td>3</td>\n",
              "      <td>3</td>\n",
              "      <td>2</td>\n",
              "      <td>5</td>\n",
              "      <td>1</td>\n",
              "      <td>5</td>\n",
              "      <td>...</td>\n",
              "      <td>2016-03-03 02:01:20</td>\n",
              "      <td>1360.0</td>\n",
              "      <td>768.0</td>\n",
              "      <td>12.0</td>\n",
              "      <td>179.0</td>\n",
              "      <td>11.0</td>\n",
              "      <td>1.0</td>\n",
              "      <td>MY</td>\n",
              "      <td>3.1698</td>\n",
              "      <td>101.706</td>\n",
              "    </tr>\n",
              "    <tr>\n",
              "      <th>2</th>\n",
              "      <td>2</td>\n",
              "      <td>3</td>\n",
              "      <td>4</td>\n",
              "      <td>4</td>\n",
              "      <td>3</td>\n",
              "      <td>2</td>\n",
              "      <td>1</td>\n",
              "      <td>3</td>\n",
              "      <td>2</td>\n",
              "      <td>5</td>\n",
              "      <td>...</td>\n",
              "      <td>2016-03-03 02:01:56</td>\n",
              "      <td>1366.0</td>\n",
              "      <td>768.0</td>\n",
              "      <td>3.0</td>\n",
              "      <td>186.0</td>\n",
              "      <td>7.0</td>\n",
              "      <td>1.0</td>\n",
              "      <td>GB</td>\n",
              "      <td>54.9119</td>\n",
              "      <td>-1.3833</td>\n",
              "    </tr>\n",
              "    <tr>\n",
              "      <th>3</th>\n",
              "      <td>2</td>\n",
              "      <td>2</td>\n",
              "      <td>2</td>\n",
              "      <td>3</td>\n",
              "      <td>4</td>\n",
              "      <td>2</td>\n",
              "      <td>2</td>\n",
              "      <td>4</td>\n",
              "      <td>1</td>\n",
              "      <td>4</td>\n",
              "      <td>...</td>\n",
              "      <td>2016-03-03 02:02:02</td>\n",
              "      <td>1920.0</td>\n",
              "      <td>1200.0</td>\n",
              "      <td>186.0</td>\n",
              "      <td>219.0</td>\n",
              "      <td>7.0</td>\n",
              "      <td>1.0</td>\n",
              "      <td>GB</td>\n",
              "      <td>51.75</td>\n",
              "      <td>-1.25</td>\n",
              "    </tr>\n",
              "    <tr>\n",
              "      <th>4</th>\n",
              "      <td>3</td>\n",
              "      <td>3</td>\n",
              "      <td>3</td>\n",
              "      <td>3</td>\n",
              "      <td>5</td>\n",
              "      <td>3</td>\n",
              "      <td>3</td>\n",
              "      <td>5</td>\n",
              "      <td>3</td>\n",
              "      <td>4</td>\n",
              "      <td>...</td>\n",
              "      <td>2016-03-03 02:02:57</td>\n",
              "      <td>1366.0</td>\n",
              "      <td>768.0</td>\n",
              "      <td>8.0</td>\n",
              "      <td>315.0</td>\n",
              "      <td>17.0</td>\n",
              "      <td>2.0</td>\n",
              "      <td>KE</td>\n",
              "      <td>1.0</td>\n",
              "      <td>38.0</td>\n",
              "    </tr>\n",
              "    <tr>\n",
              "      <th>...</th>\n",
              "      <td>...</td>\n",
              "      <td>...</td>\n",
              "      <td>...</td>\n",
              "      <td>...</td>\n",
              "      <td>...</td>\n",
              "      <td>...</td>\n",
              "      <td>...</td>\n",
              "      <td>...</td>\n",
              "      <td>...</td>\n",
              "      <td>...</td>\n",
              "      <td>...</td>\n",
              "      <td>...</td>\n",
              "      <td>...</td>\n",
              "      <td>...</td>\n",
              "      <td>...</td>\n",
              "      <td>...</td>\n",
              "      <td>...</td>\n",
              "      <td>...</td>\n",
              "      <td>...</td>\n",
              "      <td>...</td>\n",
              "      <td>...</td>\n",
              "    </tr>\n",
              "    <tr>\n",
              "      <th>2548</th>\n",
              "      <td>4</td>\n",
              "      <td>2</td>\n",
              "      <td>4</td>\n",
              "      <td>2</td>\n",
              "      <td>4</td>\n",
              "      <td>2</td>\n",
              "      <td>4</td>\n",
              "      <td>3</td>\n",
              "      <td>4</td>\n",
              "      <td>3</td>\n",
              "      <td>...</td>\n",
              "      <td>2016-03-04 17:01:17</td>\n",
              "      <td>1920.0</td>\n",
              "      <td>1080.0</td>\n",
              "      <td>40.0</td>\n",
              "      <td>202.0</td>\n",
              "      <td>17.0</td>\n",
              "      <td>1.0</td>\n",
              "      <td>CA</td>\n",
              "      <td>43.447</td>\n",
              "      <td>-80.4725</td>\n",
              "    </tr>\n",
              "    <tr>\n",
              "      <th>2549</th>\n",
              "      <td>3</td>\n",
              "      <td>2</td>\n",
              "      <td>5</td>\n",
              "      <td>4</td>\n",
              "      <td>2</td>\n",
              "      <td>2</td>\n",
              "      <td>3</td>\n",
              "      <td>2</td>\n",
              "      <td>5</td>\n",
              "      <td>3</td>\n",
              "      <td>...</td>\n",
              "      <td>2016-03-04 17:04:50</td>\n",
              "      <td>1920.0</td>\n",
              "      <td>1080.0</td>\n",
              "      <td>19.0</td>\n",
              "      <td>205.0</td>\n",
              "      <td>9.0</td>\n",
              "      <td>1.0</td>\n",
              "      <td>US</td>\n",
              "      <td>38.1347</td>\n",
              "      <td>-97.926</td>\n",
              "    </tr>\n",
              "    <tr>\n",
              "      <th>2550</th>\n",
              "      <td>2</td>\n",
              "      <td>5</td>\n",
              "      <td>2</td>\n",
              "      <td>5</td>\n",
              "      <td>1</td>\n",
              "      <td>1</td>\n",
              "      <td>1</td>\n",
              "      <td>5</td>\n",
              "      <td>1</td>\n",
              "      <td>5</td>\n",
              "      <td>...</td>\n",
              "      <td>2016-03-04 17:09:36</td>\n",
              "      <td>1440.0</td>\n",
              "      <td>900.0</td>\n",
              "      <td>118.0</td>\n",
              "      <td>263.0</td>\n",
              "      <td>14.0</td>\n",
              "      <td>1.0</td>\n",
              "      <td>US</td>\n",
              "      <td>44.069</td>\n",
              "      <td>-123.0825</td>\n",
              "    </tr>\n",
              "    <tr>\n",
              "      <th>2551</th>\n",
              "      <td>1</td>\n",
              "      <td>3</td>\n",
              "      <td>4</td>\n",
              "      <td>3</td>\n",
              "      <td>5</td>\n",
              "      <td>1</td>\n",
              "      <td>2</td>\n",
              "      <td>5</td>\n",
              "      <td>4</td>\n",
              "      <td>4</td>\n",
              "      <td>...</td>\n",
              "      <td>2016-03-04 17:10:23</td>\n",
              "      <td>1366.0</td>\n",
              "      <td>768.0</td>\n",
              "      <td>24.0</td>\n",
              "      <td>224.0</td>\n",
              "      <td>10.0</td>\n",
              "      <td>1.0</td>\n",
              "      <td>US</td>\n",
              "      <td>38.0</td>\n",
              "      <td>-97.0</td>\n",
              "    </tr>\n",
              "    <tr>\n",
              "      <th>2552</th>\n",
              "      <td>3</td>\n",
              "      <td>4</td>\n",
              "      <td>4</td>\n",
              "      <td>3</td>\n",
              "      <td>4</td>\n",
              "      <td>1</td>\n",
              "      <td>3</td>\n",
              "      <td>1</td>\n",
              "      <td>5</td>\n",
              "      <td>5</td>\n",
              "      <td>...</td>\n",
              "      <td>NaN</td>\n",
              "      <td>NaN</td>\n",
              "      <td>NaN</td>\n",
              "      <td>NaN</td>\n",
              "      <td>NaN</td>\n",
              "      <td>NaN</td>\n",
              "      <td>NaN</td>\n",
              "      <td>NaN</td>\n",
              "      <td>NaN</td>\n",
              "      <td>NaN</td>\n",
              "    </tr>\n",
              "  </tbody>\n",
              "</table>\n",
              "<p>2553 rows × 110 columns</p>\n",
              "</div>\n",
              "      <button class=\"colab-df-convert\" onclick=\"convertToInteractive('df-48493bfc-2f35-4980-bad1-0bf5dcd77a8b')\"\n",
              "              title=\"Convert this dataframe to an interactive table.\"\n",
              "              style=\"display:none;\">\n",
              "        \n",
              "  <svg xmlns=\"http://www.w3.org/2000/svg\" height=\"24px\"viewBox=\"0 0 24 24\"\n",
              "       width=\"24px\">\n",
              "    <path d=\"M0 0h24v24H0V0z\" fill=\"none\"/>\n",
              "    <path d=\"M18.56 5.44l.94 2.06.94-2.06 2.06-.94-2.06-.94-.94-2.06-.94 2.06-2.06.94zm-11 1L8.5 8.5l.94-2.06 2.06-.94-2.06-.94L8.5 2.5l-.94 2.06-2.06.94zm10 10l.94 2.06.94-2.06 2.06-.94-2.06-.94-.94-2.06-.94 2.06-2.06.94z\"/><path d=\"M17.41 7.96l-1.37-1.37c-.4-.4-.92-.59-1.43-.59-.52 0-1.04.2-1.43.59L10.3 9.45l-7.72 7.72c-.78.78-.78 2.05 0 2.83L4 21.41c.39.39.9.59 1.41.59.51 0 1.02-.2 1.41-.59l7.78-7.78 2.81-2.81c.8-.78.8-2.07 0-2.86zM5.41 20L4 18.59l7.72-7.72 1.47 1.35L5.41 20z\"/>\n",
              "  </svg>\n",
              "      </button>\n",
              "      \n",
              "  <style>\n",
              "    .colab-df-container {\n",
              "      display:flex;\n",
              "      flex-wrap:wrap;\n",
              "      gap: 12px;\n",
              "    }\n",
              "\n",
              "    .colab-df-convert {\n",
              "      background-color: #E8F0FE;\n",
              "      border: none;\n",
              "      border-radius: 50%;\n",
              "      cursor: pointer;\n",
              "      display: none;\n",
              "      fill: #1967D2;\n",
              "      height: 32px;\n",
              "      padding: 0 0 0 0;\n",
              "      width: 32px;\n",
              "    }\n",
              "\n",
              "    .colab-df-convert:hover {\n",
              "      background-color: #E2EBFA;\n",
              "      box-shadow: 0px 1px 2px rgba(60, 64, 67, 0.3), 0px 1px 3px 1px rgba(60, 64, 67, 0.15);\n",
              "      fill: #174EA6;\n",
              "    }\n",
              "\n",
              "    [theme=dark] .colab-df-convert {\n",
              "      background-color: #3B4455;\n",
              "      fill: #D2E3FC;\n",
              "    }\n",
              "\n",
              "    [theme=dark] .colab-df-convert:hover {\n",
              "      background-color: #434B5C;\n",
              "      box-shadow: 0px 1px 3px 1px rgba(0, 0, 0, 0.15);\n",
              "      filter: drop-shadow(0px 1px 2px rgba(0, 0, 0, 0.3));\n",
              "      fill: #FFFFFF;\n",
              "    }\n",
              "  </style>\n",
              "\n",
              "      <script>\n",
              "        const buttonEl =\n",
              "          document.querySelector('#df-48493bfc-2f35-4980-bad1-0bf5dcd77a8b button.colab-df-convert');\n",
              "        buttonEl.style.display =\n",
              "          google.colab.kernel.accessAllowed ? 'block' : 'none';\n",
              "\n",
              "        async function convertToInteractive(key) {\n",
              "          const element = document.querySelector('#df-48493bfc-2f35-4980-bad1-0bf5dcd77a8b');\n",
              "          const dataTable =\n",
              "            await google.colab.kernel.invokeFunction('convertToInteractive',\n",
              "                                                     [key], {});\n",
              "          if (!dataTable) return;\n",
              "\n",
              "          const docLinkHtml = 'Like what you see? Visit the ' +\n",
              "            '<a target=\"_blank\" href=https://colab.research.google.com/notebooks/data_table.ipynb>data table notebook</a>'\n",
              "            + ' to learn more about interactive tables.';\n",
              "          element.innerHTML = '';\n",
              "          dataTable['output_type'] = 'display_data';\n",
              "          await google.colab.output.renderOutput(dataTable, element);\n",
              "          const docLink = document.createElement('div');\n",
              "          docLink.innerHTML = docLinkHtml;\n",
              "          element.appendChild(docLink);\n",
              "        }\n",
              "      </script>\n",
              "    </div>\n",
              "  </div>\n",
              "  "
            ]
          },
          "metadata": {},
          "execution_count": 4
        }
      ],
      "source": [
        "df"
      ]
    },
    {
      "cell_type": "code",
      "execution_count": null,
      "metadata": {
        "id": "hL6RCQHf7VMS"
      },
      "outputs": [],
      "source": [
        "columns = df.columns"
      ]
    },
    {
      "cell_type": "code",
      "execution_count": null,
      "metadata": {
        "colab": {
          "base_uri": "https://localhost:8080/"
        },
        "id": "zT6AWara7VMU",
        "outputId": "0f8a3dfd-95e8-4089-a486-fe52f06b7c6c"
      },
      "outputs": [
        {
          "output_type": "stream",
          "name": "stdout",
          "text": [
            "EXT1\n",
            "EXT2\n",
            "EXT3\n",
            "EXT4\n",
            "EXT5\n",
            "EXT6\n",
            "EXT7\n",
            "EXT8\n",
            "EXT9\n",
            "EXT10\n",
            "EST1\n",
            "EST2\n",
            "EST3\n",
            "EST4\n",
            "EST5\n",
            "EST6\n",
            "EST7\n",
            "EST8\n",
            "EST9\n",
            "EST10\n",
            "AGR1\n",
            "AGR2\n",
            "AGR3\n",
            "AGR4\n",
            "AGR5\n",
            "AGR6\n",
            "AGR7\n",
            "AGR8\n",
            "AGR9\n",
            "AGR10\n",
            "CSN1\n",
            "CSN2\n",
            "CSN3\n",
            "CSN4\n",
            "CSN5\n",
            "CSN6\n",
            "CSN7\n",
            "CSN8\n",
            "CSN9\n",
            "CSN10\n",
            "OPN1\n",
            "OPN2\n",
            "OPN3\n",
            "OPN4\n",
            "OPN5\n",
            "OPN6\n",
            "OPN7\n",
            "OPN8\n",
            "OPN9\n",
            "OPN10\n",
            "EXT1_E\n",
            "EXT2_E\n",
            "EXT3_E\n",
            "EXT4_E\n",
            "EXT5_E\n",
            "EXT6_E\n",
            "EXT7_E\n",
            "EXT8_E\n",
            "EXT9_E\n",
            "EXT10_E\n",
            "EST1_E\n",
            "EST2_E\n",
            "EST3_E\n",
            "EST4_E\n",
            "EST5_E\n",
            "EST6_E\n",
            "EST7_E\n",
            "EST8_E\n",
            "EST9_E\n",
            "EST10_E\n",
            "AGR1_E\n",
            "AGR2_E\n",
            "AGR3_E\n",
            "AGR4_E\n",
            "AGR5_E\n",
            "AGR6_E\n",
            "AGR7_E\n",
            "AGR8_E\n",
            "AGR9_E\n",
            "AGR10_E\n",
            "CSN1_E\n",
            "CSN2_E\n",
            "CSN3_E\n",
            "CSN4_E\n",
            "CSN5_E\n",
            "CSN6_E\n",
            "CSN7_E\n",
            "CSN8_E\n",
            "CSN9_E\n",
            "CSN10_E\n",
            "OPN1_E\n",
            "OPN2_E\n",
            "OPN3_E\n",
            "OPN4_E\n",
            "OPN5_E\n",
            "OPN6_E\n",
            "OPN7_E\n",
            "OPN8_E\n",
            "OPN9_E\n",
            "OPN10_E\n",
            "dateload\n",
            "screenw\n",
            "screenh\n",
            "introelapse\n",
            "testelapse\n",
            "endelapse\n",
            "IPC\n",
            "country\n",
            "lat_appx_lots_of_err\n",
            "long_appx_lots_of_err\n"
          ]
        }
      ],
      "source": [
        "for column in columns:\n",
        "    print(column)"
      ]
    },
    {
      "cell_type": "code",
      "execution_count": null,
      "metadata": {
        "id": "z8rprZ347VMX"
      },
      "outputs": [],
      "source": [
        "# **************"
      ]
    },
    {
      "cell_type": "code",
      "execution_count": null,
      "metadata": {
        "id": "TEhv-JY37VMY"
      },
      "outputs": [],
      "source": [
        "import numpy as np"
      ]
    },
    {
      "cell_type": "code",
      "execution_count": null,
      "metadata": {
        "id": "Ms21sJ7S7VMa"
      },
      "outputs": [],
      "source": [
        "X = df[df.columns[0:50]]"
      ]
    },
    {
      "cell_type": "code",
      "execution_count": null,
      "metadata": {
        "id": "dg-Z7QTe7VMc"
      },
      "outputs": [],
      "source": [
        "pd.set_option('display.max_columns', None)"
      ]
    },
    {
      "cell_type": "code",
      "execution_count": null,
      "metadata": {
        "colab": {
          "base_uri": "https://localhost:8080/",
          "height": 488
        },
        "id": "s6dUFcGa7VMf",
        "outputId": "62dae9bf-5517-45e8-b7e1-911b54344a2b"
      },
      "outputs": [
        {
          "output_type": "execute_result",
          "data": {
            "text/plain": [
              "        EXT1  EXT2  EXT3  EXT4  EXT5  EXT6  EXT7  EXT8  EXT9  EXT10  EST1  \\\n",
              "0        4.0   1.0   5.0   2.0   5.0   1.0   5.0   2.0   4.0    1.0   1.0   \n",
              "1        3.0   5.0   3.0   4.0   3.0   3.0   2.0   5.0   1.0    5.0   2.0   \n",
              "2        2.0   3.0   4.0   4.0   3.0   2.0   1.0   3.0   2.0    5.0   4.0   \n",
              "3        2.0   2.0   2.0   3.0   4.0   2.0   2.0   4.0   1.0    4.0   3.0   \n",
              "4        3.0   3.0   3.0   3.0   5.0   3.0   3.0   5.0   3.0    4.0   1.0   \n",
              "...      ...   ...   ...   ...   ...   ...   ...   ...   ...    ...   ...   \n",
              "252732   2.0   3.0   3.0   4.0   3.0   2.0   1.0   1.0   1.0    2.0   3.0   \n",
              "252733   4.0   3.0   4.0   1.0   5.0   3.0   4.0   5.0   4.0    3.0   2.0   \n",
              "252734   3.0   1.0   5.0   2.0   4.0   1.0   4.0   2.0   4.0    2.0   1.0   \n",
              "252735   3.0   4.0   4.0   1.0   1.0   1.0   2.0   1.0   2.0    1.0   3.0   \n",
              "252736   4.0   2.0   3.0   3.0   5.0   1.0   5.0   1.0   5.0    5.0   1.0   \n",
              "\n",
              "        EST2  EST3  EST4  EST5  EST6  EST7  EST8  EST9  EST10  AGR1  AGR2  \\\n",
              "0        4.0   4.0   2.0   2.0   2.0   2.0   2.0   3.0    2.0   2.0   5.0   \n",
              "1        3.0   4.0   1.0   3.0   1.0   2.0   1.0   3.0    1.0   1.0   4.0   \n",
              "2        4.0   4.0   2.0   2.0   2.0   2.0   2.0   1.0    3.0   1.0   4.0   \n",
              "3        3.0   3.0   2.0   3.0   2.0   2.0   2.0   4.0    3.0   2.0   4.0   \n",
              "4        5.0   5.0   3.0   1.0   1.0   1.0   1.0   3.0    2.0   1.0   5.0   \n",
              "...      ...   ...   ...   ...   ...   ...   ...   ...    ...   ...   ...   \n",
              "252732   3.0   4.0   3.0   4.0   3.0   3.0   3.0   3.0    3.0   1.0   4.0   \n",
              "252733   4.0   3.0   3.0   2.0   2.0   1.0   2.0   2.0    3.0   2.0   3.0   \n",
              "252734   5.0   1.0   5.0   5.0   3.0   2.0   1.0   3.0    1.0   3.0   5.0   \n",
              "252735   3.0   1.0   1.0   2.0   1.0   1.0   1.0   1.0    1.0   3.0   4.0   \n",
              "252736   5.0   2.0   2.0   5.0   5.0   5.0   5.0   5.0    2.0   5.0   5.0   \n",
              "\n",
              "        AGR3  AGR4  AGR5  AGR6  AGR7  AGR8  AGR9  AGR10  CSN1  CSN2  CSN3  \\\n",
              "0        2.0   4.0   2.0   3.0   2.0   4.0   3.0    4.0   3.0   4.0   3.0   \n",
              "1        1.0   5.0   1.0   5.0   3.0   4.0   5.0    3.0   3.0   2.0   5.0   \n",
              "2        1.0   4.0   2.0   4.0   1.0   4.0   4.0    3.0   4.0   2.0   2.0   \n",
              "3        3.0   4.0   2.0   4.0   2.0   4.0   3.0    4.0   2.0   4.0   4.0   \n",
              "4        1.0   5.0   1.0   3.0   1.0   5.0   5.0    3.0   5.0   1.0   5.0   \n",
              "...      ...   ...   ...   ...   ...   ...   ...    ...   ...   ...   ...   \n",
              "252732   2.0   4.0   2.0   5.0   2.0   4.0   4.0    5.0   4.0   3.0   5.0   \n",
              "252733   1.0   3.0   3.0   5.0   1.0   3.0   3.0    2.0   1.0   2.0   4.0   \n",
              "252734   5.0   3.0   2.0   4.0   2.0   4.0   4.0    4.0   3.0   5.0   3.0   \n",
              "252735   3.0   1.0   2.0   1.0   1.0   1.0   1.0    2.0   3.0   2.0   5.0   \n",
              "252736   5.0   1.0   5.0   1.0   5.0   2.0   1.0    5.0   5.0   5.0   5.0   \n",
              "\n",
              "        CSN4  CSN5  CSN6  CSN7  CSN8  CSN9  CSN10  OPN1  OPN2  OPN3  OPN4  \\\n",
              "0        2.0   2.0   4.0   4.0   2.0   4.0    4.0   5.0   1.0   4.0   1.0   \n",
              "1        3.0   3.0   1.0   3.0   3.0   5.0    3.0   1.0   2.0   4.0   2.0   \n",
              "2        2.0   3.0   3.0   4.0   2.0   4.0    2.0   5.0   1.0   2.0   1.0   \n",
              "3        4.0   1.0   2.0   2.0   3.0   1.0    4.0   4.0   2.0   5.0   2.0   \n",
              "4        1.0   3.0   1.0   5.0   1.0   5.0    5.0   5.0   1.0   5.0   1.0   \n",
              "...      ...   ...   ...   ...   ...   ...    ...   ...   ...   ...   ...   \n",
              "252732   2.0   3.0   2.0   5.0   2.0   5.0    4.0   3.0   4.0   3.0   5.0   \n",
              "252733   4.0   4.0   4.0   2.0   3.0   2.0    3.0   4.0   2.0   4.0   2.0   \n",
              "252734   4.0   2.0   5.0   4.0   5.0   2.0    4.0   1.0   5.0   5.0   3.0   \n",
              "252735   3.0   1.0   2.0   1.0   1.0   3.0    1.0   5.0   4.0   1.0   2.0   \n",
              "252736   4.0   1.0   4.0   5.0   2.0   2.0    5.0   5.0   1.0   5.0   1.0   \n",
              "\n",
              "        OPN5  OPN6  OPN7  OPN8  OPN9  OPN10  \n",
              "0        4.0   1.0   5.0   3.0   4.0    5.0  \n",
              "1        3.0   1.0   4.0   2.0   5.0    3.0  \n",
              "2        4.0   2.0   5.0   3.0   4.0    4.0  \n",
              "3        3.0   1.0   4.0   4.0   3.0    3.0  \n",
              "4        5.0   1.0   5.0   3.0   5.0    5.0  \n",
              "...      ...   ...   ...   ...   ...    ...  \n",
              "252732   4.0   4.0   4.0   3.0   3.0    3.0  \n",
              "252733   5.0   1.0   3.0   1.0   3.0    4.0  \n",
              "252734   5.0   2.0   5.0   1.0   2.0    4.0  \n",
              "252735   1.0   2.0   2.0   3.0   1.0    1.0  \n",
              "252736   5.0   1.0   5.0   3.0   5.0    5.0  \n",
              "\n",
              "[252737 rows x 50 columns]"
            ],
            "text/html": [
              "\n",
              "  <div id=\"df-c3cc2808-0472-4cf6-bb47-71bfd0eff728\">\n",
              "    <div class=\"colab-df-container\">\n",
              "      <div>\n",
              "<style scoped>\n",
              "    .dataframe tbody tr th:only-of-type {\n",
              "        vertical-align: middle;\n",
              "    }\n",
              "\n",
              "    .dataframe tbody tr th {\n",
              "        vertical-align: top;\n",
              "    }\n",
              "\n",
              "    .dataframe thead th {\n",
              "        text-align: right;\n",
              "    }\n",
              "</style>\n",
              "<table border=\"1\" class=\"dataframe\">\n",
              "  <thead>\n",
              "    <tr style=\"text-align: right;\">\n",
              "      <th></th>\n",
              "      <th>EXT1</th>\n",
              "      <th>EXT2</th>\n",
              "      <th>EXT3</th>\n",
              "      <th>EXT4</th>\n",
              "      <th>EXT5</th>\n",
              "      <th>EXT6</th>\n",
              "      <th>EXT7</th>\n",
              "      <th>EXT8</th>\n",
              "      <th>EXT9</th>\n",
              "      <th>EXT10</th>\n",
              "      <th>EST1</th>\n",
              "      <th>EST2</th>\n",
              "      <th>EST3</th>\n",
              "      <th>EST4</th>\n",
              "      <th>EST5</th>\n",
              "      <th>EST6</th>\n",
              "      <th>EST7</th>\n",
              "      <th>EST8</th>\n",
              "      <th>EST9</th>\n",
              "      <th>EST10</th>\n",
              "      <th>AGR1</th>\n",
              "      <th>AGR2</th>\n",
              "      <th>AGR3</th>\n",
              "      <th>AGR4</th>\n",
              "      <th>AGR5</th>\n",
              "      <th>AGR6</th>\n",
              "      <th>AGR7</th>\n",
              "      <th>AGR8</th>\n",
              "      <th>AGR9</th>\n",
              "      <th>AGR10</th>\n",
              "      <th>CSN1</th>\n",
              "      <th>CSN2</th>\n",
              "      <th>CSN3</th>\n",
              "      <th>CSN4</th>\n",
              "      <th>CSN5</th>\n",
              "      <th>CSN6</th>\n",
              "      <th>CSN7</th>\n",
              "      <th>CSN8</th>\n",
              "      <th>CSN9</th>\n",
              "      <th>CSN10</th>\n",
              "      <th>OPN1</th>\n",
              "      <th>OPN2</th>\n",
              "      <th>OPN3</th>\n",
              "      <th>OPN4</th>\n",
              "      <th>OPN5</th>\n",
              "      <th>OPN6</th>\n",
              "      <th>OPN7</th>\n",
              "      <th>OPN8</th>\n",
              "      <th>OPN9</th>\n",
              "      <th>OPN10</th>\n",
              "    </tr>\n",
              "  </thead>\n",
              "  <tbody>\n",
              "    <tr>\n",
              "      <th>0</th>\n",
              "      <td>4.0</td>\n",
              "      <td>1.0</td>\n",
              "      <td>5.0</td>\n",
              "      <td>2.0</td>\n",
              "      <td>5.0</td>\n",
              "      <td>1.0</td>\n",
              "      <td>5.0</td>\n",
              "      <td>2.0</td>\n",
              "      <td>4.0</td>\n",
              "      <td>1.0</td>\n",
              "      <td>1.0</td>\n",
              "      <td>4.0</td>\n",
              "      <td>4.0</td>\n",
              "      <td>2.0</td>\n",
              "      <td>2.0</td>\n",
              "      <td>2.0</td>\n",
              "      <td>2.0</td>\n",
              "      <td>2.0</td>\n",
              "      <td>3.0</td>\n",
              "      <td>2.0</td>\n",
              "      <td>2.0</td>\n",
              "      <td>5.0</td>\n",
              "      <td>2.0</td>\n",
              "      <td>4.0</td>\n",
              "      <td>2.0</td>\n",
              "      <td>3.0</td>\n",
              "      <td>2.0</td>\n",
              "      <td>4.0</td>\n",
              "      <td>3.0</td>\n",
              "      <td>4.0</td>\n",
              "      <td>3.0</td>\n",
              "      <td>4.0</td>\n",
              "      <td>3.0</td>\n",
              "      <td>2.0</td>\n",
              "      <td>2.0</td>\n",
              "      <td>4.0</td>\n",
              "      <td>4.0</td>\n",
              "      <td>2.0</td>\n",
              "      <td>4.0</td>\n",
              "      <td>4.0</td>\n",
              "      <td>5.0</td>\n",
              "      <td>1.0</td>\n",
              "      <td>4.0</td>\n",
              "      <td>1.0</td>\n",
              "      <td>4.0</td>\n",
              "      <td>1.0</td>\n",
              "      <td>5.0</td>\n",
              "      <td>3.0</td>\n",
              "      <td>4.0</td>\n",
              "      <td>5.0</td>\n",
              "    </tr>\n",
              "    <tr>\n",
              "      <th>1</th>\n",
              "      <td>3.0</td>\n",
              "      <td>5.0</td>\n",
              "      <td>3.0</td>\n",
              "      <td>4.0</td>\n",
              "      <td>3.0</td>\n",
              "      <td>3.0</td>\n",
              "      <td>2.0</td>\n",
              "      <td>5.0</td>\n",
              "      <td>1.0</td>\n",
              "      <td>5.0</td>\n",
              "      <td>2.0</td>\n",
              "      <td>3.0</td>\n",
              "      <td>4.0</td>\n",
              "      <td>1.0</td>\n",
              "      <td>3.0</td>\n",
              "      <td>1.0</td>\n",
              "      <td>2.0</td>\n",
              "      <td>1.0</td>\n",
              "      <td>3.0</td>\n",
              "      <td>1.0</td>\n",
              "      <td>1.0</td>\n",
              "      <td>4.0</td>\n",
              "      <td>1.0</td>\n",
              "      <td>5.0</td>\n",
              "      <td>1.0</td>\n",
              "      <td>5.0</td>\n",
              "      <td>3.0</td>\n",
              "      <td>4.0</td>\n",
              "      <td>5.0</td>\n",
              "      <td>3.0</td>\n",
              "      <td>3.0</td>\n",
              "      <td>2.0</td>\n",
              "      <td>5.0</td>\n",
              "      <td>3.0</td>\n",
              "      <td>3.0</td>\n",
              "      <td>1.0</td>\n",
              "      <td>3.0</td>\n",
              "      <td>3.0</td>\n",
              "      <td>5.0</td>\n",
              "      <td>3.0</td>\n",
              "      <td>1.0</td>\n",
              "      <td>2.0</td>\n",
              "      <td>4.0</td>\n",
              "      <td>2.0</td>\n",
              "      <td>3.0</td>\n",
              "      <td>1.0</td>\n",
              "      <td>4.0</td>\n",
              "      <td>2.0</td>\n",
              "      <td>5.0</td>\n",
              "      <td>3.0</td>\n",
              "    </tr>\n",
              "    <tr>\n",
              "      <th>2</th>\n",
              "      <td>2.0</td>\n",
              "      <td>3.0</td>\n",
              "      <td>4.0</td>\n",
              "      <td>4.0</td>\n",
              "      <td>3.0</td>\n",
              "      <td>2.0</td>\n",
              "      <td>1.0</td>\n",
              "      <td>3.0</td>\n",
              "      <td>2.0</td>\n",
              "      <td>5.0</td>\n",
              "      <td>4.0</td>\n",
              "      <td>4.0</td>\n",
              "      <td>4.0</td>\n",
              "      <td>2.0</td>\n",
              "      <td>2.0</td>\n",
              "      <td>2.0</td>\n",
              "      <td>2.0</td>\n",
              "      <td>2.0</td>\n",
              "      <td>1.0</td>\n",
              "      <td>3.0</td>\n",
              "      <td>1.0</td>\n",
              "      <td>4.0</td>\n",
              "      <td>1.0</td>\n",
              "      <td>4.0</td>\n",
              "      <td>2.0</td>\n",
              "      <td>4.0</td>\n",
              "      <td>1.0</td>\n",
              "      <td>4.0</td>\n",
              "      <td>4.0</td>\n",
              "      <td>3.0</td>\n",
              "      <td>4.0</td>\n",
              "      <td>2.0</td>\n",
              "      <td>2.0</td>\n",
              "      <td>2.0</td>\n",
              "      <td>3.0</td>\n",
              "      <td>3.0</td>\n",
              "      <td>4.0</td>\n",
              "      <td>2.0</td>\n",
              "      <td>4.0</td>\n",
              "      <td>2.0</td>\n",
              "      <td>5.0</td>\n",
              "      <td>1.0</td>\n",
              "      <td>2.0</td>\n",
              "      <td>1.0</td>\n",
              "      <td>4.0</td>\n",
              "      <td>2.0</td>\n",
              "      <td>5.0</td>\n",
              "      <td>3.0</td>\n",
              "      <td>4.0</td>\n",
              "      <td>4.0</td>\n",
              "    </tr>\n",
              "    <tr>\n",
              "      <th>3</th>\n",
              "      <td>2.0</td>\n",
              "      <td>2.0</td>\n",
              "      <td>2.0</td>\n",
              "      <td>3.0</td>\n",
              "      <td>4.0</td>\n",
              "      <td>2.0</td>\n",
              "      <td>2.0</td>\n",
              "      <td>4.0</td>\n",
              "      <td>1.0</td>\n",
              "      <td>4.0</td>\n",
              "      <td>3.0</td>\n",
              "      <td>3.0</td>\n",
              "      <td>3.0</td>\n",
              "      <td>2.0</td>\n",
              "      <td>3.0</td>\n",
              "      <td>2.0</td>\n",
              "      <td>2.0</td>\n",
              "      <td>2.0</td>\n",
              "      <td>4.0</td>\n",
              "      <td>3.0</td>\n",
              "      <td>2.0</td>\n",
              "      <td>4.0</td>\n",
              "      <td>3.0</td>\n",
              "      <td>4.0</td>\n",
              "      <td>2.0</td>\n",
              "      <td>4.0</td>\n",
              "      <td>2.0</td>\n",
              "      <td>4.0</td>\n",
              "      <td>3.0</td>\n",
              "      <td>4.0</td>\n",
              "      <td>2.0</td>\n",
              "      <td>4.0</td>\n",
              "      <td>4.0</td>\n",
              "      <td>4.0</td>\n",
              "      <td>1.0</td>\n",
              "      <td>2.0</td>\n",
              "      <td>2.0</td>\n",
              "      <td>3.0</td>\n",
              "      <td>1.0</td>\n",
              "      <td>4.0</td>\n",
              "      <td>4.0</td>\n",
              "      <td>2.0</td>\n",
              "      <td>5.0</td>\n",
              "      <td>2.0</td>\n",
              "      <td>3.0</td>\n",
              "      <td>1.0</td>\n",
              "      <td>4.0</td>\n",
              "      <td>4.0</td>\n",
              "      <td>3.0</td>\n",
              "      <td>3.0</td>\n",
              "    </tr>\n",
              "    <tr>\n",
              "      <th>4</th>\n",
              "      <td>3.0</td>\n",
              "      <td>3.0</td>\n",
              "      <td>3.0</td>\n",
              "      <td>3.0</td>\n",
              "      <td>5.0</td>\n",
              "      <td>3.0</td>\n",
              "      <td>3.0</td>\n",
              "      <td>5.0</td>\n",
              "      <td>3.0</td>\n",
              "      <td>4.0</td>\n",
              "      <td>1.0</td>\n",
              "      <td>5.0</td>\n",
              "      <td>5.0</td>\n",
              "      <td>3.0</td>\n",
              "      <td>1.0</td>\n",
              "      <td>1.0</td>\n",
              "      <td>1.0</td>\n",
              "      <td>1.0</td>\n",
              "      <td>3.0</td>\n",
              "      <td>2.0</td>\n",
              "      <td>1.0</td>\n",
              "      <td>5.0</td>\n",
              "      <td>1.0</td>\n",
              "      <td>5.0</td>\n",
              "      <td>1.0</td>\n",
              "      <td>3.0</td>\n",
              "      <td>1.0</td>\n",
              "      <td>5.0</td>\n",
              "      <td>5.0</td>\n",
              "      <td>3.0</td>\n",
              "      <td>5.0</td>\n",
              "      <td>1.0</td>\n",
              "      <td>5.0</td>\n",
              "      <td>1.0</td>\n",
              "      <td>3.0</td>\n",
              "      <td>1.0</td>\n",
              "      <td>5.0</td>\n",
              "      <td>1.0</td>\n",
              "      <td>5.0</td>\n",
              "      <td>5.0</td>\n",
              "      <td>5.0</td>\n",
              "      <td>1.0</td>\n",
              "      <td>5.0</td>\n",
              "      <td>1.0</td>\n",
              "      <td>5.0</td>\n",
              "      <td>1.0</td>\n",
              "      <td>5.0</td>\n",
              "      <td>3.0</td>\n",
              "      <td>5.0</td>\n",
              "      <td>5.0</td>\n",
              "    </tr>\n",
              "    <tr>\n",
              "      <th>...</th>\n",
              "      <td>...</td>\n",
              "      <td>...</td>\n",
              "      <td>...</td>\n",
              "      <td>...</td>\n",
              "      <td>...</td>\n",
              "      <td>...</td>\n",
              "      <td>...</td>\n",
              "      <td>...</td>\n",
              "      <td>...</td>\n",
              "      <td>...</td>\n",
              "      <td>...</td>\n",
              "      <td>...</td>\n",
              "      <td>...</td>\n",
              "      <td>...</td>\n",
              "      <td>...</td>\n",
              "      <td>...</td>\n",
              "      <td>...</td>\n",
              "      <td>...</td>\n",
              "      <td>...</td>\n",
              "      <td>...</td>\n",
              "      <td>...</td>\n",
              "      <td>...</td>\n",
              "      <td>...</td>\n",
              "      <td>...</td>\n",
              "      <td>...</td>\n",
              "      <td>...</td>\n",
              "      <td>...</td>\n",
              "      <td>...</td>\n",
              "      <td>...</td>\n",
              "      <td>...</td>\n",
              "      <td>...</td>\n",
              "      <td>...</td>\n",
              "      <td>...</td>\n",
              "      <td>...</td>\n",
              "      <td>...</td>\n",
              "      <td>...</td>\n",
              "      <td>...</td>\n",
              "      <td>...</td>\n",
              "      <td>...</td>\n",
              "      <td>...</td>\n",
              "      <td>...</td>\n",
              "      <td>...</td>\n",
              "      <td>...</td>\n",
              "      <td>...</td>\n",
              "      <td>...</td>\n",
              "      <td>...</td>\n",
              "      <td>...</td>\n",
              "      <td>...</td>\n",
              "      <td>...</td>\n",
              "      <td>...</td>\n",
              "    </tr>\n",
              "    <tr>\n",
              "      <th>252732</th>\n",
              "      <td>2.0</td>\n",
              "      <td>3.0</td>\n",
              "      <td>3.0</td>\n",
              "      <td>4.0</td>\n",
              "      <td>3.0</td>\n",
              "      <td>2.0</td>\n",
              "      <td>1.0</td>\n",
              "      <td>1.0</td>\n",
              "      <td>1.0</td>\n",
              "      <td>2.0</td>\n",
              "      <td>3.0</td>\n",
              "      <td>3.0</td>\n",
              "      <td>4.0</td>\n",
              "      <td>3.0</td>\n",
              "      <td>4.0</td>\n",
              "      <td>3.0</td>\n",
              "      <td>3.0</td>\n",
              "      <td>3.0</td>\n",
              "      <td>3.0</td>\n",
              "      <td>3.0</td>\n",
              "      <td>1.0</td>\n",
              "      <td>4.0</td>\n",
              "      <td>2.0</td>\n",
              "      <td>4.0</td>\n",
              "      <td>2.0</td>\n",
              "      <td>5.0</td>\n",
              "      <td>2.0</td>\n",
              "      <td>4.0</td>\n",
              "      <td>4.0</td>\n",
              "      <td>5.0</td>\n",
              "      <td>4.0</td>\n",
              "      <td>3.0</td>\n",
              "      <td>5.0</td>\n",
              "      <td>2.0</td>\n",
              "      <td>3.0</td>\n",
              "      <td>2.0</td>\n",
              "      <td>5.0</td>\n",
              "      <td>2.0</td>\n",
              "      <td>5.0</td>\n",
              "      <td>4.0</td>\n",
              "      <td>3.0</td>\n",
              "      <td>4.0</td>\n",
              "      <td>3.0</td>\n",
              "      <td>5.0</td>\n",
              "      <td>4.0</td>\n",
              "      <td>4.0</td>\n",
              "      <td>4.0</td>\n",
              "      <td>3.0</td>\n",
              "      <td>3.0</td>\n",
              "      <td>3.0</td>\n",
              "    </tr>\n",
              "    <tr>\n",
              "      <th>252733</th>\n",
              "      <td>4.0</td>\n",
              "      <td>3.0</td>\n",
              "      <td>4.0</td>\n",
              "      <td>1.0</td>\n",
              "      <td>5.0</td>\n",
              "      <td>3.0</td>\n",
              "      <td>4.0</td>\n",
              "      <td>5.0</td>\n",
              "      <td>4.0</td>\n",
              "      <td>3.0</td>\n",
              "      <td>2.0</td>\n",
              "      <td>4.0</td>\n",
              "      <td>3.0</td>\n",
              "      <td>3.0</td>\n",
              "      <td>2.0</td>\n",
              "      <td>2.0</td>\n",
              "      <td>1.0</td>\n",
              "      <td>2.0</td>\n",
              "      <td>2.0</td>\n",
              "      <td>3.0</td>\n",
              "      <td>2.0</td>\n",
              "      <td>3.0</td>\n",
              "      <td>1.0</td>\n",
              "      <td>3.0</td>\n",
              "      <td>3.0</td>\n",
              "      <td>5.0</td>\n",
              "      <td>1.0</td>\n",
              "      <td>3.0</td>\n",
              "      <td>3.0</td>\n",
              "      <td>2.0</td>\n",
              "      <td>1.0</td>\n",
              "      <td>2.0</td>\n",
              "      <td>4.0</td>\n",
              "      <td>4.0</td>\n",
              "      <td>4.0</td>\n",
              "      <td>4.0</td>\n",
              "      <td>2.0</td>\n",
              "      <td>3.0</td>\n",
              "      <td>2.0</td>\n",
              "      <td>3.0</td>\n",
              "      <td>4.0</td>\n",
              "      <td>2.0</td>\n",
              "      <td>4.0</td>\n",
              "      <td>2.0</td>\n",
              "      <td>5.0</td>\n",
              "      <td>1.0</td>\n",
              "      <td>3.0</td>\n",
              "      <td>1.0</td>\n",
              "      <td>3.0</td>\n",
              "      <td>4.0</td>\n",
              "    </tr>\n",
              "    <tr>\n",
              "      <th>252734</th>\n",
              "      <td>3.0</td>\n",
              "      <td>1.0</td>\n",
              "      <td>5.0</td>\n",
              "      <td>2.0</td>\n",
              "      <td>4.0</td>\n",
              "      <td>1.0</td>\n",
              "      <td>4.0</td>\n",
              "      <td>2.0</td>\n",
              "      <td>4.0</td>\n",
              "      <td>2.0</td>\n",
              "      <td>1.0</td>\n",
              "      <td>5.0</td>\n",
              "      <td>1.0</td>\n",
              "      <td>5.0</td>\n",
              "      <td>5.0</td>\n",
              "      <td>3.0</td>\n",
              "      <td>2.0</td>\n",
              "      <td>1.0</td>\n",
              "      <td>3.0</td>\n",
              "      <td>1.0</td>\n",
              "      <td>3.0</td>\n",
              "      <td>5.0</td>\n",
              "      <td>5.0</td>\n",
              "      <td>3.0</td>\n",
              "      <td>2.0</td>\n",
              "      <td>4.0</td>\n",
              "      <td>2.0</td>\n",
              "      <td>4.0</td>\n",
              "      <td>4.0</td>\n",
              "      <td>4.0</td>\n",
              "      <td>3.0</td>\n",
              "      <td>5.0</td>\n",
              "      <td>3.0</td>\n",
              "      <td>4.0</td>\n",
              "      <td>2.0</td>\n",
              "      <td>5.0</td>\n",
              "      <td>4.0</td>\n",
              "      <td>5.0</td>\n",
              "      <td>2.0</td>\n",
              "      <td>4.0</td>\n",
              "      <td>1.0</td>\n",
              "      <td>5.0</td>\n",
              "      <td>5.0</td>\n",
              "      <td>3.0</td>\n",
              "      <td>5.0</td>\n",
              "      <td>2.0</td>\n",
              "      <td>5.0</td>\n",
              "      <td>1.0</td>\n",
              "      <td>2.0</td>\n",
              "      <td>4.0</td>\n",
              "    </tr>\n",
              "    <tr>\n",
              "      <th>252735</th>\n",
              "      <td>3.0</td>\n",
              "      <td>4.0</td>\n",
              "      <td>4.0</td>\n",
              "      <td>1.0</td>\n",
              "      <td>1.0</td>\n",
              "      <td>1.0</td>\n",
              "      <td>2.0</td>\n",
              "      <td>1.0</td>\n",
              "      <td>2.0</td>\n",
              "      <td>1.0</td>\n",
              "      <td>3.0</td>\n",
              "      <td>3.0</td>\n",
              "      <td>1.0</td>\n",
              "      <td>1.0</td>\n",
              "      <td>2.0</td>\n",
              "      <td>1.0</td>\n",
              "      <td>1.0</td>\n",
              "      <td>1.0</td>\n",
              "      <td>1.0</td>\n",
              "      <td>1.0</td>\n",
              "      <td>3.0</td>\n",
              "      <td>4.0</td>\n",
              "      <td>3.0</td>\n",
              "      <td>1.0</td>\n",
              "      <td>2.0</td>\n",
              "      <td>1.0</td>\n",
              "      <td>1.0</td>\n",
              "      <td>1.0</td>\n",
              "      <td>1.0</td>\n",
              "      <td>2.0</td>\n",
              "      <td>3.0</td>\n",
              "      <td>2.0</td>\n",
              "      <td>5.0</td>\n",
              "      <td>3.0</td>\n",
              "      <td>1.0</td>\n",
              "      <td>2.0</td>\n",
              "      <td>1.0</td>\n",
              "      <td>1.0</td>\n",
              "      <td>3.0</td>\n",
              "      <td>1.0</td>\n",
              "      <td>5.0</td>\n",
              "      <td>4.0</td>\n",
              "      <td>1.0</td>\n",
              "      <td>2.0</td>\n",
              "      <td>1.0</td>\n",
              "      <td>2.0</td>\n",
              "      <td>2.0</td>\n",
              "      <td>3.0</td>\n",
              "      <td>1.0</td>\n",
              "      <td>1.0</td>\n",
              "    </tr>\n",
              "    <tr>\n",
              "      <th>252736</th>\n",
              "      <td>4.0</td>\n",
              "      <td>2.0</td>\n",
              "      <td>3.0</td>\n",
              "      <td>3.0</td>\n",
              "      <td>5.0</td>\n",
              "      <td>1.0</td>\n",
              "      <td>5.0</td>\n",
              "      <td>1.0</td>\n",
              "      <td>5.0</td>\n",
              "      <td>5.0</td>\n",
              "      <td>1.0</td>\n",
              "      <td>5.0</td>\n",
              "      <td>2.0</td>\n",
              "      <td>2.0</td>\n",
              "      <td>5.0</td>\n",
              "      <td>5.0</td>\n",
              "      <td>5.0</td>\n",
              "      <td>5.0</td>\n",
              "      <td>5.0</td>\n",
              "      <td>2.0</td>\n",
              "      <td>5.0</td>\n",
              "      <td>5.0</td>\n",
              "      <td>5.0</td>\n",
              "      <td>1.0</td>\n",
              "      <td>5.0</td>\n",
              "      <td>1.0</td>\n",
              "      <td>5.0</td>\n",
              "      <td>2.0</td>\n",
              "      <td>1.0</td>\n",
              "      <td>5.0</td>\n",
              "      <td>5.0</td>\n",
              "      <td>5.0</td>\n",
              "      <td>5.0</td>\n",
              "      <td>4.0</td>\n",
              "      <td>1.0</td>\n",
              "      <td>4.0</td>\n",
              "      <td>5.0</td>\n",
              "      <td>2.0</td>\n",
              "      <td>2.0</td>\n",
              "      <td>5.0</td>\n",
              "      <td>5.0</td>\n",
              "      <td>1.0</td>\n",
              "      <td>5.0</td>\n",
              "      <td>1.0</td>\n",
              "      <td>5.0</td>\n",
              "      <td>1.0</td>\n",
              "      <td>5.0</td>\n",
              "      <td>3.0</td>\n",
              "      <td>5.0</td>\n",
              "      <td>5.0</td>\n",
              "    </tr>\n",
              "  </tbody>\n",
              "</table>\n",
              "<p>252737 rows × 50 columns</p>\n",
              "</div>\n",
              "      <button class=\"colab-df-convert\" onclick=\"convertToInteractive('df-c3cc2808-0472-4cf6-bb47-71bfd0eff728')\"\n",
              "              title=\"Convert this dataframe to an interactive table.\"\n",
              "              style=\"display:none;\">\n",
              "        \n",
              "  <svg xmlns=\"http://www.w3.org/2000/svg\" height=\"24px\"viewBox=\"0 0 24 24\"\n",
              "       width=\"24px\">\n",
              "    <path d=\"M0 0h24v24H0V0z\" fill=\"none\"/>\n",
              "    <path d=\"M18.56 5.44l.94 2.06.94-2.06 2.06-.94-2.06-.94-.94-2.06-.94 2.06-2.06.94zm-11 1L8.5 8.5l.94-2.06 2.06-.94-2.06-.94L8.5 2.5l-.94 2.06-2.06.94zm10 10l.94 2.06.94-2.06 2.06-.94-2.06-.94-.94-2.06-.94 2.06-2.06.94z\"/><path d=\"M17.41 7.96l-1.37-1.37c-.4-.4-.92-.59-1.43-.59-.52 0-1.04.2-1.43.59L10.3 9.45l-7.72 7.72c-.78.78-.78 2.05 0 2.83L4 21.41c.39.39.9.59 1.41.59.51 0 1.02-.2 1.41-.59l7.78-7.78 2.81-2.81c.8-.78.8-2.07 0-2.86zM5.41 20L4 18.59l7.72-7.72 1.47 1.35L5.41 20z\"/>\n",
              "  </svg>\n",
              "      </button>\n",
              "      \n",
              "  <style>\n",
              "    .colab-df-container {\n",
              "      display:flex;\n",
              "      flex-wrap:wrap;\n",
              "      gap: 12px;\n",
              "    }\n",
              "\n",
              "    .colab-df-convert {\n",
              "      background-color: #E8F0FE;\n",
              "      border: none;\n",
              "      border-radius: 50%;\n",
              "      cursor: pointer;\n",
              "      display: none;\n",
              "      fill: #1967D2;\n",
              "      height: 32px;\n",
              "      padding: 0 0 0 0;\n",
              "      width: 32px;\n",
              "    }\n",
              "\n",
              "    .colab-df-convert:hover {\n",
              "      background-color: #E2EBFA;\n",
              "      box-shadow: 0px 1px 2px rgba(60, 64, 67, 0.3), 0px 1px 3px 1px rgba(60, 64, 67, 0.15);\n",
              "      fill: #174EA6;\n",
              "    }\n",
              "\n",
              "    [theme=dark] .colab-df-convert {\n",
              "      background-color: #3B4455;\n",
              "      fill: #D2E3FC;\n",
              "    }\n",
              "\n",
              "    [theme=dark] .colab-df-convert:hover {\n",
              "      background-color: #434B5C;\n",
              "      box-shadow: 0px 1px 3px 1px rgba(0, 0, 0, 0.15);\n",
              "      filter: drop-shadow(0px 1px 2px rgba(0, 0, 0, 0.3));\n",
              "      fill: #FFFFFF;\n",
              "    }\n",
              "  </style>\n",
              "\n",
              "      <script>\n",
              "        const buttonEl =\n",
              "          document.querySelector('#df-c3cc2808-0472-4cf6-bb47-71bfd0eff728 button.colab-df-convert');\n",
              "        buttonEl.style.display =\n",
              "          google.colab.kernel.accessAllowed ? 'block' : 'none';\n",
              "\n",
              "        async function convertToInteractive(key) {\n",
              "          const element = document.querySelector('#df-c3cc2808-0472-4cf6-bb47-71bfd0eff728');\n",
              "          const dataTable =\n",
              "            await google.colab.kernel.invokeFunction('convertToInteractive',\n",
              "                                                     [key], {});\n",
              "          if (!dataTable) return;\n",
              "\n",
              "          const docLinkHtml = 'Like what you see? Visit the ' +\n",
              "            '<a target=\"_blank\" href=https://colab.research.google.com/notebooks/data_table.ipynb>data table notebook</a>'\n",
              "            + ' to learn more about interactive tables.';\n",
              "          element.innerHTML = '';\n",
              "          dataTable['output_type'] = 'display_data';\n",
              "          await google.colab.output.renderOutput(dataTable, element);\n",
              "          const docLink = document.createElement('div');\n",
              "          docLink.innerHTML = docLinkHtml;\n",
              "          element.appendChild(docLink);\n",
              "        }\n",
              "      </script>\n",
              "    </div>\n",
              "  </div>\n",
              "  "
            ]
          },
          "metadata": {},
          "execution_count": 12
        }
      ],
      "source": [
        "X"
      ]
    },
    {
      "cell_type": "code",
      "execution_count": null,
      "metadata": {
        "id": "TVGWIPiH7VMh"
      },
      "outputs": [],
      "source": [
        "X = X.fillna(0)"
      ]
    },
    {
      "cell_type": "code",
      "execution_count": null,
      "metadata": {
        "id": "YYDesqUb7VMj"
      },
      "outputs": [],
      "source": [
        "from sklearn.cluster import MiniBatchKMeans"
      ]
    },
    {
      "cell_type": "code",
      "execution_count": null,
      "metadata": {
        "id": "zHRk2aQA7VMk"
      },
      "outputs": [],
      "source": [
        "kmeans = MiniBatchKMeans(n_clusters=10, random_state=0, batch_size=100, max_iter=100).fit(X)"
      ]
    },
    {
      "cell_type": "code",
      "execution_count": null,
      "metadata": {
        "id": "4upoZmaj7VMm"
      },
      "outputs": [],
      "source": [
        "# ***********************"
      ]
    },
    {
      "cell_type": "code",
      "execution_count": null,
      "metadata": {
        "colab": {
          "base_uri": "https://localhost:8080/"
        },
        "id": "7auQVH0x7VMn",
        "outputId": "85b2969f-60da-45c1-c65f-cede66f77221"
      },
      "outputs": [
        {
          "output_type": "execute_result",
          "data": {
            "text/plain": [
              "10"
            ]
          },
          "metadata": {},
          "execution_count": 17
        }
      ],
      "source": [
        "len(kmeans.cluster_centers_)"
      ]
    },
    {
      "cell_type": "code",
      "execution_count": null,
      "metadata": {
        "id": "OcaSM4N07VMo"
      },
      "outputs": [],
      "source": [
        "one = kmeans.cluster_centers_[0]"
      ]
    },
    {
      "cell_type": "code",
      "execution_count": null,
      "metadata": {
        "id": "bDrP9_qt7VMp"
      },
      "outputs": [],
      "source": [
        "two = kmeans.cluster_centers_[1]"
      ]
    },
    {
      "cell_type": "code",
      "execution_count": null,
      "metadata": {
        "id": "vHV2Faaw7VMq"
      },
      "outputs": [],
      "source": [
        "three =kmeans.cluster_centers_[2]"
      ]
    },
    {
      "cell_type": "code",
      "execution_count": null,
      "metadata": {
        "id": "OHRdqs127VMs"
      },
      "outputs": [],
      "source": [
        "four = kmeans.cluster_centers_[3]"
      ]
    },
    {
      "cell_type": "code",
      "execution_count": null,
      "metadata": {
        "id": "3SoJ8rWd7VMs"
      },
      "outputs": [],
      "source": [
        "five =kmeans.cluster_centers_[4]"
      ]
    },
    {
      "cell_type": "code",
      "execution_count": null,
      "metadata": {
        "id": "LBMKRkIH7VMt"
      },
      "outputs": [],
      "source": [
        "six = kmeans.cluster_centers_[5]"
      ]
    },
    {
      "cell_type": "code",
      "execution_count": null,
      "metadata": {
        "id": "NT6eHJgO7VMv"
      },
      "outputs": [],
      "source": [
        "seven = kmeans.cluster_centers_[6]"
      ]
    },
    {
      "cell_type": "code",
      "execution_count": null,
      "metadata": {
        "id": "a-8UxKMd7VMw"
      },
      "outputs": [],
      "source": [
        "eight = kmeans.cluster_centers_[7]"
      ]
    },
    {
      "cell_type": "code",
      "execution_count": null,
      "metadata": {
        "id": "nkN_YymC7VMw"
      },
      "outputs": [],
      "source": [
        "nine= kmeans.cluster_centers_[8]"
      ]
    },
    {
      "cell_type": "code",
      "execution_count": null,
      "metadata": {
        "id": "UgLU0xsl7VMy"
      },
      "outputs": [],
      "source": [
        "ten = kmeans.cluster_centers_[9]"
      ]
    },
    {
      "cell_type": "code",
      "execution_count": null,
      "metadata": {
        "colab": {
          "base_uri": "https://localhost:8080/"
        },
        "id": "yVRV_xB17VMy",
        "outputId": "b8b58d62-e527-44b1-ae3b-39818fc880a7"
      },
      "outputs": [
        {
          "output_type": "execute_result",
          "data": {
            "text/plain": [
              "array([2.42147436, 3.00641026, 3.09455128, 3.4599359 , 3.12019231,\n",
              "       2.87179487, 2.51121795, 3.74358974, 2.53846154, 3.93589744,\n",
              "       4.03365385, 2.65224359, 4.42467949, 2.50480769, 3.51602564,\n",
              "       3.69230769, 3.65224359, 3.30288462, 3.74358974, 3.1875    ,\n",
              "       2.33012821, 3.83012821, 2.03685897, 4.25480769, 2.2099359 ,\n",
              "       4.20032051, 2.23557692, 3.82371795, 4.13942308, 3.61378205,\n",
              "       3.66987179, 2.24038462, 4.05288462, 2.41025641, 3.17467949,\n",
              "       2.15384615, 4.19871795, 2.17948718, 3.93269231, 3.74358974,\n",
              "       3.14903846, 2.76282051, 3.65865385, 2.46794872, 3.42628205,\n",
              "       2.41025641, 3.67948718, 2.64102564, 4.08653846, 3.45192308])"
            ]
          },
          "metadata": {},
          "execution_count": 52
        }
      ],
      "source": [
        "one"
      ]
    },
    {
      "cell_type": "code",
      "execution_count": null,
      "metadata": {
        "id": "vvG0AwHt7VMz"
      },
      "outputs": [],
      "source": [
        "# ********************"
      ]
    },
    {
      "cell_type": "code",
      "execution_count": null,
      "metadata": {
        "id": "OZs0tf657VM0"
      },
      "outputs": [],
      "source": [
        "one_scores = {}\n",
        "\n",
        "one_scores['extroversion_score'] =  one[0] - one[1] + one[2] - one[3] + one[4] - one[5] + one[6] - one[7] + one[8] - one[9]\n",
        "one_scores['neuroticism_score'] =  one[10] - one[11] + one[12] - one[13] + one[14] + one[15] + one[16] + one[17] + one[18] + one[19]\n",
        "one_scores['agreeableness_score'] =  -one[20] + one[21] - one[22] + one[23] - one[24] - one[25] + one[26] - one[27] + one[28] + one[29]\n",
        "one_scores['conscientiousness_score'] =  one[30] - one[31] + one[32] - one[33] + one[34] - one[35] + one[36] - one[37] + one[38]+one[39] \n",
        "one_scores['openness_score'] =  one[40] - one[41] + one[42] - one[43] + one[44] - one[45] + one[46] + one[47] + one[48] + one[49]\n"
      ]
    },
    {
      "cell_type": "code",
      "source": [],
      "metadata": {
        "id": "2wt2RHC7FmK1"
      },
      "execution_count": null,
      "outputs": []
    },
    {
      "cell_type": "code",
      "execution_count": null,
      "metadata": {
        "colab": {
          "base_uri": "https://localhost:8080/"
        },
        "id": "o8K_bH__7VM1",
        "outputId": "7a2d5ab4-7abe-407b-e1f6-8ec1fd6274d1"
      },
      "outputs": [
        {
          "output_type": "execute_result",
          "data": {
            "text/plain": [
              "{'extroversion_score': -3.331730769230769,\n",
              " 'neuroticism_score': 17.770833333333336,\n",
              " 'agreeableness_score': 0.20032051282051055,\n",
              " 'conscientiousness_score': 4.540064102564102,\n",
              " 'openness_score': 12.027243589743593}"
            ]
          },
          "metadata": {},
          "execution_count": 31
        }
      ],
      "source": [
        "one_scores"
      ]
    },
    {
      "cell_type": "code",
      "execution_count": null,
      "metadata": {
        "id": "eGXMLANh7VM2"
      },
      "outputs": [],
      "source": [
        "# ********************"
      ]
    },
    {
      "cell_type": "code",
      "execution_count": null,
      "metadata": {
        "id": "BXE_BTgu7VM3"
      },
      "outputs": [],
      "source": [
        "all_types = {'one':one, 'two': two, 'three' :three, 'four':four, 'five':five, 'six': six, 'seven': seven, 'eight': eight,\n",
        "             'nine': nine, 'ten': ten}\n",
        "\n",
        "all_types_scores ={}\n",
        "\n",
        "for name, personality_type in all_types.items():\n",
        "    personality_trait = {}\n",
        "\n",
        "    personality_trait['extroversion_score'] =  personality_type[0] - personality_type[1] +personality_type[2] - personality_type[3] + personality_type[4] - personality_type[5] +personality_type[6] - personality_type[7] + personality_type[8] -personality_type[9]\n",
        "    personality_trait['neuroticism_score'] =  personality_type[10] - personality_type[11] + personality_type[12] -personality_type[13] + personality_type[14] + personality_type[15] + personality_type[16] + personality_type[17] + personality_type[18] + personality_type[19]\n",
        "    personality_trait['agreeableness_score'] =  -personality_type[20] +personality_type[21] - personality_type[22] + personality_type[23] - personality_type[24] - personality_type[25] + personality_type[26] - personality_type[27] + personality_type[28] + personality_type[29]\n",
        "    personality_trait['conscientiousness_score'] = personality_type[30] - personality_type[31] + personality_type[32] -personality_type[33] +personality_type[34] - personality_type[35] +personality_type[36] -personality_type[37] + personality_type[38] + personality_type[39]\n",
        "    personality_trait['openness_score'] =  personality_type[40] -personality_type[41] + personality_type[42] - personality_type[43] + personality_type[44] - personality_type[45] +personality_type[46] + personality_type[47] + personality_type[48] + personality_type[49]\n",
        "    \n",
        "    all_types_scores[name] = personality_trait\n"
      ]
    },
    {
      "cell_type": "code",
      "execution_count": null,
      "metadata": {
        "colab": {
          "base_uri": "https://localhost:8080/"
        },
        "id": "7n2CjWUo7VM5",
        "outputId": "a2cee401-68a8-41c3-ca2e-c4a1751f64c1"
      },
      "outputs": [
        {
          "output_type": "execute_result",
          "data": {
            "text/plain": [
              "{'one': {'extroversion_score': -3.331730769230769,\n",
              "  'neuroticism_score': 24.39583333333334,\n",
              "  'agreeableness_score': 3.4727564102564124,\n",
              "  'conscientiousness_score': 13.78846153846154,\n",
              "  'openness_score': 16.45192307692308},\n",
              " 'two': {'extroversion_score': -7.999999999999996,\n",
              "  'neuroticism_score': 28.7392156862745,\n",
              "  'agreeableness_score': 3.8176470588235296,\n",
              "  'conscientiousness_score': 3.7254901960784306,\n",
              "  'openness_score': 22.084313725490187},\n",
              " 'three': {'extroversion_score': -11.273786407766984,\n",
              "  'neuroticism_score': 25.4388349514563,\n",
              "  'agreeableness_score': -1.135922330097086,\n",
              "  'conscientiousness_score': 5.877669902912618,\n",
              "  'openness_score': 17.930097087378638},\n",
              " 'four': {'extroversion_score': 7.626245847176083,\n",
              "  'neuroticism_score': 25.5797342192691,\n",
              "  'agreeableness_score': 4.111295681063117,\n",
              "  'conscientiousness_score': 4.6013289036544816,\n",
              "  'openness_score': 23.35215946843853},\n",
              " 'five': {'extroversion_score': 3.288037166085946,\n",
              "  'neuroticism_score': 16.361207897793264,\n",
              "  'agreeableness_score': 1.673635307781649,\n",
              "  'conscientiousness_score': 4.955865272938439,\n",
              "  'openness_score': 18.152148664343784},\n",
              " 'six': {'extroversion_score': -9.29411764705882,\n",
              "  'neuroticism_score': 14.057189542483663,\n",
              "  'agreeableness_score': 3.637254901960785,\n",
              "  'conscientiousness_score': 7.557189542483658,\n",
              "  'openness_score': 20.174836601307195},\n",
              " 'seven': {'extroversion_score': 11.742774566473983,\n",
              "  'neuroticism_score': 10.504335260115605,\n",
              "  'agreeableness_score': 5.317919075144506,\n",
              "  'conscientiousness_score': 12.209537572254332,\n",
              "  'openness_score': 23.34248554913294},\n",
              " 'eight': {'extroversion_score': 0.13333333333333305,\n",
              "  'neuroticism_score': 1.0833333333333326,\n",
              "  'agreeableness_score': 0.21666666666666595,\n",
              "  'conscientiousness_score': 0.816666666666666,\n",
              "  'openness_score': 1.2833333333333328},\n",
              " 'nine': {'extroversion_score': 0.5525641025641042,\n",
              "  'neuroticism_score': 13.016666666666662,\n",
              "  'agreeableness_score': 5.0461538461538495,\n",
              "  'conscientiousness_score': 16.825641025641026,\n",
              "  'openness_score': 21.153846153846153},\n",
              " 'ten': {'extroversion_score': -4.9389534883720945,\n",
              "  'neuroticism_score': 9.540697674418606,\n",
              "  'agreeableness_score': -0.7877906976744202,\n",
              "  'conscientiousness_score': 14.029069767441865,\n",
              "  'openness_score': 21.66279069767442}}"
            ]
          },
          "metadata": {},
          "execution_count": 55
        }
      ],
      "source": [
        "all_types_scores"
      ]
    },
    {
      "cell_type": "code",
      "execution_count": null,
      "metadata": {
        "id": "74eTghpf7VM6"
      },
      "outputs": [],
      "source": [
        "# ************************"
      ]
    },
    {
      "cell_type": "code",
      "execution_count": null,
      "metadata": {
        "id": "-JxSn8HX7VM6"
      },
      "outputs": [],
      "source": [
        "all_extroversion = []\n",
        "all_neuroticism =[]\n",
        "all_agreeableness =[]\n",
        "all_conscientiousness =[]\n",
        "all_openness =[]\n",
        "\n",
        "for personality_type, personality_trait in all_types_scores.items():\n",
        "    all_extroversion.append(personality_trait['extroversion_score'])\n",
        "    all_neuroticism.append(personality_trait['neuroticism_score'])\n",
        "    all_agreeableness.append(personality_trait['agreeableness_score'])\n",
        "    all_conscientiousness.append(personality_trait['conscientiousness_score'])\n",
        "    all_openness.append(personality_trait['openness_score'])\n",
        "    \n",
        "    "
      ]
    },
    {
      "cell_type": "code",
      "execution_count": null,
      "metadata": {
        "id": "AC1O7mbp7VM8"
      },
      "outputs": [],
      "source": [
        "all_extroversion_normalized = (all_extroversion-min(all_extroversion))/(max(all_extroversion)-min(all_extroversion))\n",
        "all_neuroticism_normalized = (all_neuroticism-min(all_neuroticism))/(max(all_neuroticism)-min(all_neuroticism))\n",
        "all_agreeableness_normalized = (all_agreeableness-min(all_agreeableness))/(max(all_agreeableness)-min(all_agreeableness))\n",
        "all_conscientiousness_normalized = (all_conscientiousness-min(all_conscientiousness))/(max(all_conscientiousness)-min(all_conscientiousness))\n",
        "all_openness_normalized = (all_openness-min(all_openness))/(max(all_openness)-min(all_openness))"
      ]
    },
    {
      "cell_type": "code",
      "execution_count": null,
      "metadata": {
        "colab": {
          "base_uri": "https://localhost:8080/"
        },
        "id": "JTmiMmMD7VM9",
        "outputId": "21e319b9-6081-45bc-b0dd-52ac3428bfd0"
      },
      "outputs": [
        {
          "output_type": "execute_result",
          "data": {
            "text/plain": [
              "array([0.34505831, 0.14223612, 0.        , 0.82114927, 0.63266722,\n",
              "       0.08601062, 1.        , 0.49560487, 0.51381918, 0.27522934])"
            ]
          },
          "metadata": {},
          "execution_count": 58
        }
      ],
      "source": [
        "all_extroversion_normalized"
      ]
    },
    {
      "cell_type": "code",
      "execution_count": null,
      "metadata": {
        "id": "xjgrBrK97VM-"
      },
      "outputs": [],
      "source": [
        "counter = 0\n",
        "\n",
        "normalized_all_types_scores ={}\n",
        "\n",
        "for personality_type, personality_trait in all_types_scores.items():\n",
        "    normalized_personality_trait ={}\n",
        "    normalized_personality_trait['extroversion_score'] = all_extroversion_normalized[counter]\n",
        "    normalized_personality_trait['neuroticism_score'] = all_neuroticism_normalized[counter]\n",
        "    normalized_personality_trait['agreeableness_score'] = all_agreeableness_normalized[counter]\n",
        "    normalized_personality_trait['conscientiousness_score'] = all_conscientiousness_normalized[counter]\n",
        "    normalized_personality_trait['openness_score'] = all_openness_normalized[counter]\n",
        "    \n",
        "    normalized_all_types_scores[personality_type] = normalized_personality_trait\n",
        "    \n",
        "    counter+=1"
      ]
    },
    {
      "cell_type": "code",
      "source": [
        "counter"
      ],
      "metadata": {
        "colab": {
          "base_uri": "https://localhost:8080/"
        },
        "id": "iOtGsOYvN14k",
        "outputId": "6d2cd97d-7489-4a6a-d06a-b9998a63094e"
      },
      "execution_count": null,
      "outputs": [
        {
          "output_type": "execute_result",
          "data": {
            "text/plain": [
              "10"
            ]
          },
          "metadata": {},
          "execution_count": 71
        }
      ]
    },
    {
      "cell_type": "code",
      "execution_count": null,
      "metadata": {
        "colab": {
          "base_uri": "https://localhost:8080/"
        },
        "id": "Tqbg366L7VM_",
        "outputId": "a5d7d467-831f-4c1e-df34-5b7c69ad490d"
      },
      "outputs": [
        {
          "output_type": "execute_result",
          "data": {
            "text/plain": [
              "{'one': {'extroversion_score': 0.34505831029338324,\n",
              "  'neuroticism_score': 0.8429490588110183,\n",
              "  'agreeableness_score': 0.7140985423984056,\n",
              "  'conscientiousness_score': 0.8102826940017619,\n",
              "  'openness_score': 0.6873310637696698},\n",
              " 'two': {'extroversion_score': 0.1422361234343764,\n",
              "  'neuroticism_score': 1.0,\n",
              "  'agreeableness_score': 0.7675381339395005,\n",
              "  'conscientiousness_score': 0.18169955577329833,\n",
              "  'openness_score': 0.9425503769350214},\n",
              " 'three': {'extroversion_score': 0.0,\n",
              "  'neuroticism_score': 0.8806626130130609,\n",
              "  'agreeableness_score': 0.0,\n",
              "  'conscientiousness_score': 0.3161353827397968,\n",
              "  'openness_score': 0.7543112466487314},\n",
              " 'four': {'extroversion_score': 0.8211492705663144,\n",
              "  'neuroticism_score': 0.8857573435305928,\n",
              "  'agreeableness_score': 0.813037953938346,\n",
              "  'conscientiousness_score': 0.23640878872831714,\n",
              "  'openness_score': 1.0},\n",
              " 'five': {'extroversion_score': 0.6326672168856948,\n",
              "  'neuroticism_score': 0.5524276669059214,\n",
              "  'agreeableness_score': 0.4353310627678125,\n",
              "  'conscientiousness_score': 0.2585548901170804,\n",
              "  'openness_score': 0.7643730222776547},\n",
              " 'six': {'extroversion_score': 0.08601062352119909,\n",
              "  'neuroticism_score': 0.4691174211540055,\n",
              "  'agreeableness_score': 0.739587004443781,\n",
              "  'conscientiousness_score': 0.42104651582744085,\n",
              "  'openness_score': 0.8560266482829768},\n",
              " 'seven': {'extroversion_score': 1.0,\n",
              "  'neuroticism_score': 0.340650925779642,\n",
              "  'agreeableness_score': 1.0,\n",
              "  'conscientiousness_score': 0.711655265985295,\n",
              "  'openness_score': 0.9995616477629411},\n",
              " 'eight': {'extroversion_score': 0.4956048713735566,\n",
              "  'neuroticism_score': 0.0,\n",
              "  'agreeableness_score': 0.20957890221244432,\n",
              "  'conscientiousness_score': 0.0,\n",
              "  'openness_score': 0.0},\n",
              " 'nine': {'extroversion_score': 0.5138191810482275,\n",
              "  'neuroticism_score': 0.43149349498387046,\n",
              "  'agreeableness_score': 0.9578909347276588,\n",
              "  'conscientiousness_score': 1.0,\n",
              "  'openness_score': 0.9003882988096278},\n",
              " 'ten': {'extroversion_score': 0.27522934145046823,\n",
              "  'neuroticism_score': 0.3058070696553222,\n",
              "  'agreeableness_score': 0.05394177057712094,\n",
              "  'conscientiousness_score': 0.8253122782577604,\n",
              "  'openness_score': 0.9234499941038185}}"
            ]
          },
          "metadata": {},
          "execution_count": 60
        }
      ],
      "source": [
        "normalized_all_types_scores"
      ]
    },
    {
      "cell_type": "code",
      "execution_count": null,
      "metadata": {
        "id": "rJ5-4yyq7VNA"
      },
      "outputs": [],
      "source": [
        "# ***********************"
      ]
    },
    {
      "cell_type": "code",
      "execution_count": null,
      "metadata": {
        "colab": {
          "base_uri": "https://localhost:8080/",
          "height": 325
        },
        "id": "Lt52icEb7VNB",
        "outputId": "111f9760-851d-49c6-c348-4e1b5eadfee7"
      },
      "outputs": [
        {
          "output_type": "display_data",
          "data": {
            "text/plain": [
              "<Figure size 1080x360 with 1 Axes>"
            ],
            "image/png": "[encoded data removed]"
          },
          "metadata": {
            "needs_background": "light"
          }
        }
      ],
      "source": [
        "import numpy as np\n",
        "import matplotlib.pyplot as plt\n",
        "\n",
        "plt.figure(figsize=(15,5))\n",
        "plt.ylim(0, 1)\n",
        "plt.bar(list(normalized_all_types_scores['one'].keys()), normalized_all_types_scores['one'].values(), color='g')\n",
        "plt.show()"
      ]
    },
    {
      "cell_type": "code",
      "execution_count": null,
      "metadata": {
        "scrolled": true,
        "colab": {
          "base_uri": "https://localhost:8080/",
          "height": 325
        },
        "id": "KYd5Ufqx7VNC",
        "outputId": "1b0722b6-9325-4893-9f4c-ad1f5ed12990"
      },
      "outputs": [
        {
          "output_type": "display_data",
          "data": {
            "text/plain": [
              "<Figure size 1080x360 with 1 Axes>"
            ],
            "image/png": "[encoded data removed]"
          },
          "metadata": {
            "needs_background": "light"
          }
        }
      ],
      "source": [
        "plt.figure(figsize=(15,5))\n",
        "plt.ylim(0, 1)\n",
        "plt.bar(list(normalized_all_types_scores['two'].keys()), normalized_all_types_scores['two'].values(), color='g')\n",
        "plt.show()"
      ]
    },
    {
      "cell_type": "code",
      "execution_count": null,
      "metadata": {
        "colab": {
          "base_uri": "https://localhost:8080/",
          "height": 325
        },
        "id": "vl_COfjo7VND",
        "outputId": "c9cf272c-2179-4a44-ea3d-b9b33d20f03a"
      },
      "outputs": [
        {
          "output_type": "display_data",
          "data": {
            "text/plain": [
              "<Figure size 1080x360 with 1 Axes>"
            ],
            "image/png": "[encoded data removed]"
          },
          "metadata": {
            "needs_background": "light"
          }
        }
      ],
      "source": [
        "plt.figure(figsize=(15,5))\n",
        "plt.ylim(0, 1)\n",
        "plt.bar(list(normalized_all_types_scores['three'].keys()), normalized_all_types_scores['three'].values(), color='g')\n",
        "plt.show()"
      ]
    },
    {
      "cell_type": "code",
      "execution_count": null,
      "metadata": {
        "colab": {
          "base_uri": "https://localhost:8080/",
          "height": 325
        },
        "id": "Q0n-8Hga7VND",
        "outputId": "8a6949cb-53f2-4453-f8eb-43cefdf3f4ba"
      },
      "outputs": [
        {
          "output_type": "display_data",
          "data": {
            "text/plain": [
              "<Figure size 1080x360 with 1 Axes>"
            ],
            "image/png": "[encoded data removed]"
          },
          "metadata": {
            "needs_background": "light"
          }
        }
      ],
      "source": [
        "plt.figure(figsize=(15,5))\n",
        "plt.ylim(0, 1)\n",
        "plt.bar(list(normalized_all_types_scores['four'].keys()), normalized_all_types_scores['four'].values(), color='g')\n",
        "plt.show()"
      ]
    },
    {
      "cell_type": "code",
      "execution_count": null,
      "metadata": {
        "colab": {
          "base_uri": "https://localhost:8080/",
          "height": 325
        },
        "id": "3KG-1fXO7VNE",
        "outputId": "7a8d6766-e9d7-4d68-9fdd-f8b9f3bf4307"
      },
      "outputs": [
        {
          "output_type": "display_data",
          "data": {
            "text/plain": [
              "<Figure size 1080x360 with 1 Axes>"
            ],
            "image/png": "[encoded data removed]"
          },
          "metadata": {
            "needs_background": "light"
          }
        }
      ],
      "source": [
        "plt.figure(figsize=(15,5))\n",
        "plt.ylim(0, 1)\n",
        "plt.bar(list(normalized_all_types_scores['five'].keys()), normalized_all_types_scores['five'].values(), color='g')\n",
        "plt.show()"
      ]
    },
    {
      "cell_type": "code",
      "execution_count": null,
      "metadata": {
        "colab": {
          "base_uri": "https://localhost:8080/",
          "height": 325
        },
        "id": "6S6k1DEQ7VNF",
        "outputId": "ca4e32ff-b3ca-4640-9d4c-add25d7d3ca5"
      },
      "outputs": [
        {
          "output_type": "display_data",
          "data": {
            "text/plain": [
              "<Figure size 1080x360 with 1 Axes>"
            ],
            "image/png": "[encoded data removed]"
          },
          "metadata": {
            "needs_background": "light"
          }
        }
      ],
      "source": [
        "plt.figure(figsize=(15,5))\n",
        "plt.ylim(0, 1)\n",
        "plt.bar(list(normalized_all_types_scores['six'].keys()), normalized_all_types_scores['six'].values(), color='g')\n",
        "plt.show()"
      ]
    },
    {
      "cell_type": "code",
      "execution_count": null,
      "metadata": {
        "colab": {
          "base_uri": "https://localhost:8080/",
          "height": 325
        },
        "id": "BfDMQILt7VNG",
        "outputId": "f8edbd11-9541-4cff-f075-754cc36ce41a"
      },
      "outputs": [
        {
          "output_type": "display_data",
          "data": {
            "text/plain": [
              "<Figure size 1080x360 with 1 Axes>"
            ],
            "image/png": "[encoded data removed]"
          },
          "metadata": {
            "needs_background": "light"
          }
        }
      ],
      "source": [
        "plt.figure(figsize=(15,5))\n",
        "plt.ylim(0, 1)\n",
        "plt.bar(list(normalized_all_types_scores['seven'].keys()), normalized_all_types_scores['seven'].values(), color='g')\n",
        "plt.show()"
      ]
    },
    {
      "cell_type": "code",
      "execution_count": null,
      "metadata": {
        "colab": {
          "base_uri": "https://localhost:8080/",
          "height": 325
        },
        "id": "SKIpMEG37VNG",
        "outputId": "042b78d9-08b4-44d8-d079-fdd959c9e7db"
      },
      "outputs": [
        {
          "output_type": "display_data",
          "data": {
            "text/plain": [
              "<Figure size 1080x360 with 1 Axes>"
            ],
            "image/png": "[encoded data removed]"
          },
          "metadata": {
            "needs_background": "light"
          }
        }
      ],
      "source": [
        "plt.figure(figsize=(15,5))\n",
        "plt.ylim(0, 1)\n",
        "plt.bar(list(normalized_all_types_scores['eight'].keys()), normalized_all_types_scores['eight'].values(), color='g')\n",
        "plt.show()"
      ]
    },
    {
      "cell_type": "code",
      "execution_count": null,
      "metadata": {
        "colab": {
          "base_uri": "https://localhost:8080/",
          "height": 325
        },
        "id": "SRGhhMmH7VNH",
        "outputId": "270bc488-85e7-472f-df1b-0b30084d4858"
      },
      "outputs": [
        {
          "output_type": "display_data",
          "data": {
            "text/plain": [
              "<Figure size 1080x360 with 1 Axes>"
            ],
            "image/png": "[encoded data removed]"
          },
          "metadata": {
            "needs_background": "light"
          }
        }
      ],
      "source": [
        "plt.figure(figsize=(15,5))\n",
        "plt.ylim(0, 1)\n",
        "plt.bar(list(normalized_all_types_scores['nine'].keys()), normalized_all_types_scores['nine'].values(), color='g')\n",
        "plt.show()"
      ]
    },
    {
      "cell_type": "code",
      "execution_count": null,
      "metadata": {
        "colab": {
          "base_uri": "https://localhost:8080/",
          "height": 325
        },
        "id": "QvNeBq_y7VNI",
        "outputId": "c199a7f4-d6b4-4dee-93d6-3750f4b86610"
      },
      "outputs": [
        {
          "output_type": "display_data",
          "data": {
            "text/plain": [
              "<Figure size 1080x360 with 1 Axes>"
            ],
            "image/png": "[encoded data removed]"
          },
          "metadata": {
            "needs_background": "light"
          }
        }
      ],
      "source": [
        "plt.figure(figsize=(15,5))\n",
        "plt.ylim(0, 1)\n",
        "plt.bar(list(normalized_all_types_scores['ten'].keys()), normalized_all_types_scores['ten'].values(), color='g')\n",
        "plt.show()"
      ]
    },
    {
      "cell_type": "code",
      "execution_count": null,
      "metadata": {
        "id": "9AbT6fkx7VNJ"
      },
      "outputs": [],
      "source": []
    },
    {
      "cell_type": "code",
      "execution_count": null,
      "metadata": {
        "id": "4aAci2T_7VNJ"
      },
      "outputs": [],
      "source": []
    },
    {
      "cell_type": "code",
      "execution_count": null,
      "metadata": {
        "id": "NMgbVmvJ7VNK"
      },
      "outputs": [],
      "source": []
    }
  ],
  "metadata": {
    "kernelspec": {
      "display_name": "Python 3 (ipykernel)",
      "language": "python",
      "name": "python3"
    },
    "language_info": {
      "codemirror_mode": {
        "name": "ipython",
        "version": 3
      },
      "file_extension": ".py",
      "mimetype": "text/x-python",
      "name": "python",
      "nbconvert_exporter": "python",
      "pygments_lexer": "ipython3",
      "version": "3.9.12"
    },
    "colab": {
      "provenance": [],
      "include_colab_link": true
    }
  },
  "nbformat": 4,
  "nbformat_minor": 0
}